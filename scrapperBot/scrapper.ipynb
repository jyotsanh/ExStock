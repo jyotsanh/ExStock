{
 "cells": [
  {
   "cell_type": "code",
   "execution_count": 32,
   "id": "89923b38",
   "metadata": {},
   "outputs": [],
   "source": [
    "from bs4 import BeautifulSoup"
   ]
  },
  {
   "cell_type": "code",
   "execution_count": 33,
   "id": "ec226adf",
   "metadata": {},
   "outputs": [],
   "source": [
    "with open(\"page.html\", \"r\", encoding=\"utf-8\") as file:\n",
    "    content = file.read()\n"
   ]
  },
  {
   "cell_type": "code",
   "execution_count": 34,
   "id": "01c4a05a",
   "metadata": {},
   "outputs": [],
   "source": [
    "soup = BeautifulSoup(content, \"html.parser\")"
   ]
  },
  {
   "cell_type": "code",
   "execution_count": 58,
   "id": "b722debe",
   "metadata": {},
   "outputs": [],
   "source": [
    "table = soup.find(\"table\",class_=\"table table-bordered table-striped table-hover\")"
   ]
  },
  {
   "cell_type": "code",
   "execution_count": 60,
   "id": "f15866c4",
   "metadata": {},
   "outputs": [],
   "source": [
    "tr = table.find_all(\"tr\")"
   ]
  },
  {
   "cell_type": "code",
   "execution_count": 81,
   "id": "54aafb45",
   "metadata": {},
   "outputs": [],
   "source": [
    "tr = table.find_all(\"tr\")\n",
    "tr = tr[1:]\n",
    "import pandas as pd"
   ]
  },
  {
   "cell_type": "code",
   "execution_count": 82,
   "id": "9739b21f",
   "metadata": {},
   "outputs": [],
   "source": [
    "\n",
    "soup = BeautifulSoup(content, \"html.parser\")\n",
    "table = soup.find(\"table\",class_=\"table table-bordered table-striped table-hover\")\n",
    "tr = table.find_all(\"tr\")\n",
    "tr = tr[1:]\n",
    "\n",
    "\n",
    "date = []\n",
    "ltp = []\n",
    "percent_change = []\n",
    "high = []\n",
    "low = []\n",
    "open_ = []\n",
    "qty = []\n",
    "turnover = []\n",
    "\n",
    "total_data = {}\n",
    "\n",
    "for data in tr:\n",
    "    date.append(data.find_all(\"td\")[1].text.strip()) # -> date\n",
    "    ltp.append(data.find_all(\"td\")[2].text.strip()) # -> ltp\n",
    "    percent_change.append(data.find_all(\"td\")[3].text.strip()) # -> percent_change\n",
    "    high.append(data.find_all(\"td\")[4].text.strip()) # -> high\n",
    "    low.append(data.find_all(\"td\")[5].text.strip()) # -> low\n",
    "    open_.append(data.find_all(\"td\")[6].text.strip()) # -> open\n",
    "    qty.append(data.find_all(\"td\")[7].text.strip()) # -> qty\n",
    "    turnover.append(data.find_all(\"td\")[8].text.strip()) # -> turnover\n",
    "\n",
    "total_data['date'] = date\n",
    "total_data['ltp'] = ltp\n",
    "total_data['percent_change'] = percent_change\n",
    "total_data['high'] = high\n",
    "total_data['low'] = low\n",
    "total_data['open'] = open_\n",
    "total_data['qty'] = qty\n",
    "total_data['turnover'] = turnover\n",
    "\n",
    "\n"
   ]
  },
  {
   "cell_type": "code",
   "execution_count": 83,
   "id": "3415b2ac",
   "metadata": {},
   "outputs": [],
   "source": [
    "df = pd.DataFrame(total_data)"
   ]
  },
  {
   "cell_type": "code",
   "execution_count": 84,
   "id": "64725141",
   "metadata": {},
   "outputs": [],
   "source": [
    "df.to_csv(\"data.csv\", index=False)"
   ]
  },
  {
   "cell_type": "code",
   "execution_count": null,
   "id": "7d2cd626",
   "metadata": {},
   "outputs": [],
   "source": [
    "Symbol = tr[1].find_all(\"td\")[0].text.strip()\n",
    "LTP = tr[1].find_all(\"td\")[1].text.strip()\n",
    "percent_change = tr[1].find_all(\"td\")[2].text.strip()\n",
    "open_price = tr[1].find_all(\"td\")[3].text.strip()   \n",
    "high_price = tr[1].find_all(\"td\")[4].text.strip()\n",
    "lowe_price = tr[1].find_all(\"td\")[5].text.strip()\n",
    "qty = tr[1].find_all(\"td\")[6].text.strip()\n",
    "pclose = tr[1].find_all(\"td\")[7].text.strip()\n"
   ]
  },
  {
   "cell_type": "code",
   "execution_count": 29,
   "id": "332bc697",
   "metadata": {},
   "outputs": [
    {
     "data": {
      "text/plain": [
       "'1,076.10'"
      ]
     },
     "execution_count": 29,
     "metadata": {},
     "output_type": "execute_result"
    }
   ],
   "source": []
  },
  {
   "cell_type": "code",
   "execution_count": 22,
   "id": "949fad10",
   "metadata": {},
   "outputs": [
    {
     "data": {
      "text/plain": [
       "'1.67'"
      ]
     },
     "execution_count": 22,
     "metadata": {},
     "output_type": "execute_result"
    }
   ],
   "source": [
    "tr[1].find_all(\"td\")[2].text.strip()"
   ]
  },
  {
   "cell_type": "code",
   "execution_count": null,
   "id": "342b9574",
   "metadata": {},
   "outputs": [],
   "source": []
  }
 ],
 "metadata": {
  "kernelspec": {
   "display_name": "venv",
   "language": "python",
   "name": "python3"
  },
  "language_info": {
   "codemirror_mode": {
    "name": "ipython",
    "version": 3
   },
   "file_extension": ".py",
   "mimetype": "text/x-python",
   "name": "python",
   "nbconvert_exporter": "python",
   "pygments_lexer": "ipython3",
   "version": "3.12.3"
  }
 },
 "nbformat": 4,
 "nbformat_minor": 5
}
